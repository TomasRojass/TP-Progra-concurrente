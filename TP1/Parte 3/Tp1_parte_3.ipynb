{
  "nbformat": 4,
  "nbformat_minor": 0,
  "metadata": {
    "colab": {
      "provenance": [],
      "toc_visible": true,
      "include_colab_link": true
    },
    "kernelspec": {
      "name": "python3",
      "display_name": "Python 3"
    },
    "language_info": {
      "name": "python"
    }
  },
  "cells": [
    {
      "cell_type": "markdown",
      "metadata": {
        "id": "view-in-github",
        "colab_type": "text"
      },
      "source": [
        "<a href=\"https://colab.research.google.com/github/TomasRojass/TP-Progra-concurrente/blob/main/TP1/Parte%203/Tp1_parte_3.ipynb\" target=\"_parent\"><img src=\"https://colab.research.google.com/assets/colab-badge.svg\" alt=\"Open In Colab\"/></a>"
      ]
    },
    {
      "cell_type": "markdown",
      "source": [
        "# TP 1 Parte 3"
      ],
      "metadata": {
        "id": "MDLZBYPTamYw"
      }
    },
    {
      "cell_type": "markdown",
      "source": [
        "## java\n"
      ],
      "metadata": {
        "id": "gB8JwVk8kRtW"
      }
    },
    {
      "cell_type": "code",
      "execution_count": null,
      "metadata": {
        "colab": {
          "base_uri": "https://localhost:8080/"
        },
        "id": "52jGpDnMOezp",
        "outputId": "c9868aac-5c60-4424-8699-09f1cc0ec91c"
      },
      "outputs": [
        {
          "output_type": "stream",
          "name": "stdout",
          "text": [
            "Overwriting Process.java\n"
          ]
        }
      ],
      "source": [
        "%%writefile Process.java\n",
        "import java.util.*;\n",
        "import java.util.concurrent.ArrayBlockingQueue;\n",
        "\n",
        "public class ProducerConsumerExample\n",
        "{\n",
        "    public static void main(String[] args)\n",
        "    {\n",
        "      if (args.length != 1)\n",
        "      {\n",
        "          System.out.println(\"Ejemplo de uso: java ProducerConsumerExample <numOfRandomNumbers>\");\n",
        "          return;\n",
        "      }\n",
        "\n",
        "        int numOfRandomNumbers = Integer.parseInt(args[0]);\n",
        "        ArrayBlockingQueue<Integer> queue = new ArrayBlockingQueue<>(numOfRandomNumbers); // Create a blocking queue with a capacity of 10\n",
        "\n",
        "        Thread producerThread = createProducerThread(queue,numOfRandomNumbers);\n",
        "        Thread consumerThread = createConsumerThread(queue,numOfRandomNumbers);\n",
        "\n",
        "        // Start both threads\n",
        "        producerThread.start();\n",
        "        consumerThread.start();\n",
        "    }\n",
        "\n",
        "    public static int generateRandomNumber()\n",
        "    {\n",
        "        return (int) (Math.random() * 100);\n",
        "    }\n",
        "\n",
        "    public static Thread createProducerThread(ArrayBlockingQueue<Integer> queue, int numOfRandomNumbers)\n",
        "    {\n",
        "        return new Thread(() ->\n",
        "        {\n",
        "            try\n",
        "            {\n",
        "                for (int i = 0; i < numOfRandomNumbers; i++)\n",
        "                {\n",
        "                    int randomNum = generateRandomNumber();\n",
        "                    System.out.println(\"Producing: \" + randomNum);\n",
        "                    queue.put(randomNum);\n",
        "                }\n",
        "            }\n",
        "            catch (InterruptedException e)\n",
        "            {\n",
        "                Thread.currentThread().interrupt();\n",
        "            }\n",
        "        });\n",
        "    }\n",
        "\n",
        "    public static Thread createConsumerThread(ArrayBlockingQueue<Integer> queue, int numOfRandomNumbers)\n",
        "    {\n",
        "        return new Thread(() ->\n",
        "        {\n",
        "            Map<Integer, Integer> consumedNumbers = new HashMap<>(); // Map to store frequencies\n",
        "            int sum = 0;\n",
        "            try\n",
        "            {\n",
        "                for (int i = 0; i < numOfRandomNumbers; i++)\n",
        "                {\n",
        "                    int num = queue.take();\n",
        "                    sum += num;\n",
        "                    consumedNumbers.put(num, consumedNumbers.getOrDefault(num, 0) + 1);\n",
        "                }\n",
        "                double average = (double) sum / numOfRandomNumbers;\n",
        "                int maximum = Collections.max(consumedNumbers.keySet());\n",
        "                int minimum = Collections.min(consumedNumbers.keySet());\n",
        "                List<Integer> mostFrequentValues = findMostFrequentValues(consumedNumbers);\n",
        "\n",
        "                System.out.println(\"Promedio: \" + average);\n",
        "                System.out.println(\"Maximo: \" + maximum);\n",
        "                System.out.println(\"Minimo: \" + minimum);\n",
        "                System.out.println(\"Suma: \" + sum);\n",
        "                System.out.println(\"El mas frecuente: \" + mostFrequentValues);\n",
        "\n",
        "            }\n",
        "            catch (InterruptedException e)\n",
        "            {\n",
        "                Thread.currentThread().interrupt();\n",
        "            }\n",
        "        });\n",
        "    }\n",
        "\n",
        "    public static List<Integer> findMostFrequentValues(Map<Integer, Integer> frequencyMap)\n",
        "    {\n",
        "        List<Integer> mostFrequentValues = new ArrayList<>();\n",
        "        int maxFrequency = 0;\n",
        "\n",
        "        for (Map.Entry<Integer, Integer> entry : frequencyMap.entrySet())\n",
        "        {\n",
        "            int frequency = entry.getValue();\n",
        "\n",
        "            if (frequency > maxFrequency)\n",
        "            {\n",
        "                mostFrequentValues.clear();\n",
        "                mostFrequentValues.add(entry.getKey());\n",
        "                maxFrequency = frequency;\n",
        "            }\n",
        "            else if (frequency == maxFrequency)\n",
        "            {\n",
        "                mostFrequentValues.add(entry.getKey());\n",
        "            }\n",
        "        }\n",
        "\n",
        "        return mostFrequentValues;\n",
        "    }\n",
        "}\n"
      ]
    },
    {
      "cell_type": "code",
      "source": [
        "!java Process.java 6"
      ],
      "metadata": {
        "colab": {
          "base_uri": "https://localhost:8080/"
        },
        "id": "YhYTSmbQTBF3",
        "outputId": "6304372a-83eb-4015-c85c-2a8e0d98aac2"
      },
      "execution_count": null,
      "outputs": [
        {
          "output_type": "stream",
          "name": "stdout",
          "text": [
            "Producing: 1\n",
            "Producing: 1\n",
            "Producing: 1\n",
            "Producing: 1\n",
            "Producing: 0\n",
            "Producing: 1\n",
            "Promedio: 0.8333333333333334\n",
            "Maximo: 1\n",
            "Minimo: 0\n",
            "Suma: 5\n",
            "El mas frecuente: [1]\n"
          ]
        }
      ]
    },
    {
      "cell_type": "markdown",
      "source": [
        "## Python"
      ],
      "metadata": {
        "id": "snl2OwzMav-M"
      }
    },
    {
      "cell_type": "code",
      "source": [
        "import multiprocessing\n",
        "import os\n",
        "import sys\n",
        "import pprint\n",
        "\n",
        "\n",
        "def calculate_stats(wordlist):\n",
        "    res = {\n",
        "        \"Total Caracteres\": 0,\n",
        "        \"Total Letras\": 0,\n",
        "        \"Total Digitos\": 0,\n",
        "        \"Palabra mas Corta\": None,\n",
        "        \"Palabra mas Larga\": None,\n",
        "    }\n",
        "\n",
        "    for i in wordlist:\n",
        "        res[\"Total Caracteres\"] += len(i)\n",
        "        res[\"Total Letras\"] += amount_letters(i)\n",
        "        res[\"Total Digitos\"] += amount_digits(i)\n",
        "\n",
        "    wordlist_by_len = sorted(wordlist, key=len)\n",
        "    res[\"Palabra mas Corta\"] = wordlist_by_len[0]\n",
        "    res[\"Palabra mas Larga\"] = wordlist_by_len[-1]\n",
        "\n",
        "    return res\n",
        "\n",
        "\n",
        "def amount_digits(word):\n",
        "    res = 0\n",
        "    for i in word:\n",
        "        if i.isdigit():\n",
        "            res += 1\n",
        "    return res\n",
        "\n",
        "\n",
        "def amount_letters(word):\n",
        "    res = 0\n",
        "    for i in word:\n",
        "        if i.isalpha():\n",
        "            res += 1\n",
        "    return res\n",
        "\n",
        "\n",
        "def main():\n",
        "    CHILD = 0\n",
        "\n",
        "    child_pipe, parent_pipe = multiprocessing.Pipe(duplex=True)\n",
        "\n",
        "    process = os.fork()\n",
        "    if process < 0:\n",
        "        sys.exit(\"Error al crear el nuevo proceso\")\n",
        "\n",
        "    if process == CHILD:\n",
        "        child_done = False\n",
        "        words = []\n",
        "        while not child_done:\n",
        "            rec = child_pipe.recv()\n",
        "            if rec.lower() == \"close\":\n",
        "                child_done = True\n",
        "            else:\n",
        "                words.append(rec)\n",
        "        child_pipe.send(calculate_stats(words))\n",
        "\n",
        "        parent_pipe.close()\n",
        "        child_pipe.close()\n",
        "        os._exit(0)\n",
        "\n",
        "    else:\n",
        "        parent_done = False\n",
        "        while not parent_done:\n",
        "            inp = input(\">>>\")\n",
        "            parent_pipe.send(inp)\n",
        "            if inp.lower() == \"close\":\n",
        "                parent_done = True\n",
        "        stats = parent_pipe.recv()\n",
        "        pprint.pp(stats)\n",
        "        parent_pipe.close()\n",
        "        child_pipe.close()\n",
        "        os.wait()\n",
        "\n",
        "if __name__ == \"__main__\":\n",
        "    main()\n"
      ],
      "metadata": {
        "colab": {
          "base_uri": "https://localhost:8080/"
        },
        "id": "AatA5AqTuGIF",
        "outputId": "f5cb93a2-9f6f-4fa3-8ba1-54b3d58885f3"
      },
      "execution_count": null,
      "outputs": [
        {
          "output_type": "stream",
          "name": "stdout",
          "text": [
            ">>>perro\n",
            ">>>gato\n",
            ">>>mono12\n",
            ">>>ooo0000''''''\n",
            ">>>close\n",
            "{'Total Caracteres': 28,\n",
            " 'Total Letras': 16,\n",
            " 'Total Digitos': 6,\n",
            " 'Palabra mas Corta': 'gato',\n",
            " 'Palabra mas Larga': \"ooo0000''''''\"}\n"
          ]
        }
      ]
    },
    {
      "cell_type": "code",
      "source": [],
      "metadata": {
        "id": "Aoo1akPQuIaF"
      },
      "execution_count": null,
      "outputs": []
    },
    {
      "cell_type": "markdown",
      "source": [
        "## C++"
      ],
      "metadata": {
        "id": "DubsNIfhxk4X"
      }
    },
    {
      "cell_type": "code",
      "source": [
        "%%writefile password.cpp\n",
        "#include <iostream>\n",
        "#include <string.h>\n",
        "#include <thread>\n",
        "#include <mutex>\n",
        "\n",
        "std::mutex mtx;\n",
        "int pos = 0;\n",
        "char *args = NULL;\n",
        "int result[50] = {};\n",
        "\n",
        "int getNumberFromChar(char letter){\n",
        "  if(letter >= 'a' && letter <= 'z'){\n",
        "    return int(letter)-96;\n",
        "  }\n",
        "  if(letter >= 'A' && letter <= 'Z'){\n",
        "    return int(letter)-64;\n",
        "  }\n",
        "  return -1;\n",
        "}\n",
        "\n",
        "void getPassword(int cant) {\n",
        "  std::cout << \"TID: \" << std::this_thread::get_id() << std::endl;\n",
        "  std::cout << \"Cantidad de letras a procesar: \" << cant << std::endl << std::endl;\n",
        "\n",
        "  for(int i=0; i<cant; i++){\n",
        "    mtx.lock();\n",
        "    int number = getNumberFromChar(args[pos]);\n",
        "    result[pos] = number;\n",
        "    pos++;\n",
        "    mtx.unlock();\n",
        "  }\n",
        "}\n",
        "\n",
        "int main(int argc, char **argv) {\n",
        "\n",
        "  args = argv[1];\n",
        "  int cant1 = strlen(argv[1]) / 2;\n",
        "  int cant2 = strlen(argv[1]) - cant1;\n",
        "\n",
        "  std::thread thread_1(getPassword, cant1);\n",
        "  std::thread thread_2(getPassword, cant2);\n",
        "\n",
        "  thread_1.join();\n",
        "  thread_2.join();\n",
        "\n",
        "  std::cout << \"password numbers: \" << std::endl;\n",
        "  for(int i=0; i<strlen(argv[1]); i++)\n",
        "  {\n",
        "    std::cout << result[i] << std::endl;\n",
        "  }\n",
        "\n",
        "  return EXIT_SUCCESS;\n",
        "}\n"
      ],
      "metadata": {
        "colab": {
          "base_uri": "https://localhost:8080/"
        },
        "outputId": "ac552ce7-14c7-40c1-f6a1-a759abced067",
        "id": "TchOpavJZUn2"
      },
      "execution_count": 6,
      "outputs": [
        {
          "output_type": "stream",
          "name": "stdout",
          "text": [
            "Overwriting password.cpp\n"
          ]
        }
      ]
    },
    {
      "cell_type": "code",
      "source": [
        "!gcc -o password ./password.cpp -lstdc++"
      ],
      "metadata": {
        "id": "9WJfk09oZUn3"
      },
      "execution_count": 7,
      "outputs": []
    },
    {
      "cell_type": "code",
      "source": [
        "!./password ARBOLITOS"
      ],
      "metadata": {
        "colab": {
          "base_uri": "https://localhost:8080/"
        },
        "outputId": "97a7ffba-52de-4cec-bc5c-f411be574569",
        "id": "gc56A9jCZUn3"
      },
      "execution_count": 8,
      "outputs": [
        {
          "output_type": "stream",
          "name": "stdout",
          "text": [
            "TID: 136346498926144\n",
            "Cantidad de letras a procesar: 5\n",
            "\n",
            "TID: 136346507318848\n",
            "Cantidad de letras a procesar: 4\n",
            "\n",
            "password numbers: \n",
            "1\n",
            "18\n",
            "2\n",
            "15\n",
            "12\n",
            "9\n",
            "20\n",
            "15\n",
            "19\n"
          ]
        }
      ]
    }
  ]
}