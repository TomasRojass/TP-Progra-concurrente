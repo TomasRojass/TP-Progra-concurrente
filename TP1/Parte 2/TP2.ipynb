{
  "nbformat": 4,
  "nbformat_minor": 0,
  "metadata": {
    "colab": {
      "provenance": [],
      "collapsed_sections": [
        "wA4JIsLaUd6C",
        "er493Td49MI4",
        "-4oUo3-_Xed-",
        "HuLmAJI5Azfc",
        "Dybo4stQGYtE"
      ],
      "toc_visible": true
    },
    "kernelspec": {
      "name": "python3",
      "display_name": "Python 3"
    },
    "language_info": {
      "name": "python"
    }
  },
  "cells": [
    {
      "cell_type": "markdown",
      "source": [
        "# Trabajo Práctico 1 Parte 2"
      ],
      "metadata": {
        "id": "9Wc7XC8t0nrz"
      }
    },
    {
      "cell_type": "markdown",
      "source": [
        "## Python"
      ],
      "metadata": {
        "id": "wA4JIsLaUd6C"
      }
    },
    {
      "cell_type": "code",
      "source": [
        "import random\n",
        "import pprint\n",
        "import threading\n",
        "\n",
        "TAM = 5\n",
        "\n",
        "a = []\n",
        "b = []\n",
        "cs = []  # secuencial\n",
        "cc = []  # concurrente\n",
        "\n",
        "def suma_filas(num_fila: int):\n",
        "    \"\"\"\n",
        "    :param num_fila: entre 0 y 4 para este caso\n",
        "    :return: None\n",
        "    \"\"\"\n",
        "    for i in range(TAM):\n",
        "        cc[num_fila][i] = a[num_fila][i] + b[num_fila][i]\n",
        "\n",
        "\n",
        "# carga de valores en matrices\n",
        "for i in range(TAM):\n",
        "    a.append([random.randint(-32, 32) for _ in range(TAM)])\n",
        "    b.append([random.randint(-32, 32) for _ in range(TAM)])\n",
        "    cc.append([0 for _ in range(TAM)])  # La creo con valores para tener la estructura y poder hacer cc[x][y]\n",
        "\n",
        "# algoritmo secuencial\n",
        "for i in range(TAM):\n",
        "    fila_nueva = []\n",
        "    for j in range(TAM):\n",
        "        fila_nueva.append(a[i][j] + b[i][j])\n",
        "    cs.append(fila_nueva)\n",
        "\n",
        "# algoritmo concurrente\n",
        "\n",
        "\n",
        "hilos = [threading.Thread(target=suma_filas, args=(i,), name=f\"suma_fila {i}\") for i in range(TAM)]\n",
        "\n",
        "for i in hilos:\n",
        "    i.start()\n",
        "    i.join()\n",
        "\n",
        "# Python tiene algo llamado GIL (global interpreter lock), que significa solo un hilo puede estar haciendo operaciones.\n",
        "# El beneficio de performance de tener threads en python solo se ve cuando está esperando por IO o por una conexion,\n",
        "# para estos casos donde es solo hacer operaciones no hay diferencia\n",
        "\n",
        "\n",
        "print(\"Matriz A:\")\n",
        "pprint.pp(a, )\n",
        "print(\"\\nMatriz B:\")\n",
        "pprint.pp(b)\n",
        "print(\"\\nMatriz CS (Secuencial):\")\n",
        "pprint.pp(cs)\n",
        "print(\"\\nMatriz CC (Concurrente):\")\n",
        "pprint.pp(cc)\n",
        "print(f\"\\nLas matrices CC y CS son iguales? {cc == cs}\")"
      ],
      "metadata": {
        "colab": {
          "base_uri": "https://localhost:8080/"
        },
        "id": "k60gZl-9UdY9",
        "outputId": "f925f56f-2fa3-42b7-875f-01aa53a340eb"
      },
      "execution_count": null,
      "outputs": [
        {
          "output_type": "stream",
          "name": "stdout",
          "text": [
            "Matriz A:\n",
            "[[22, 22, -22, -18, 1],\n",
            " [-26, -30, -3, 27, -24],\n",
            " [0, -8, 14, 11, 18],\n",
            " [-23, -6, 20, 29, 12],\n",
            " [3, 20, -17, -20, -5]]\n",
            "\n",
            "Matriz B:\n",
            "[[-27, 10, 15, 29, 15],\n",
            " [21, 6, -13, 2, 9],\n",
            " [20, -27, -3, -27, 14],\n",
            " [28, 1, -18, 20, -18],\n",
            " [27, -20, 9, -12, 3]]\n",
            "\n",
            "Matriz CS (Secuencial):\n",
            "[[-5, 32, -7, 11, 16],\n",
            " [-5, -24, -16, 29, -15],\n",
            " [20, -35, 11, -16, 32],\n",
            " [5, -5, 2, 49, -6],\n",
            " [30, 0, -8, -32, -2]]\n",
            "\n",
            "Matriz CC (Concurrente):\n",
            "[[-5, 32, -7, 11, 16],\n",
            " [-5, -24, -16, 29, -15],\n",
            " [20, -35, 11, -16, 32],\n",
            " [5, -5, 2, 49, -6],\n",
            " [30, 0, -8, -32, -2]]\n",
            "\n",
            "Las matrices CC y CS son iguales? True\n"
          ]
        }
      ]
    },
    {
      "cell_type": "markdown",
      "source": [
        "## Java:"
      ],
      "metadata": {
        "id": "er493Td49MI4"
      }
    },
    {
      "cell_type": "code",
      "execution_count": null,
      "metadata": {
        "colab": {
          "base_uri": "https://localhost:8080/"
        },
        "id": "oW7-viee9Js3",
        "outputId": "534f371d-70b8-4573-f279-24bf00dcdad4"
      },
      "outputs": [
        {
          "output_type": "stream",
          "name": "stdout",
          "text": [
            "Writing Process.java\n"
          ]
        }
      ],
      "source": [
        "%%writefile Process.java\n",
        "import java.util.Random;\n",
        "\n",
        "public class MatricesAleatorias\n",
        "{\n",
        "    private static int rows = 5;\n",
        "    private static int columns = 5;\n",
        "    private static int max = 32;\n",
        "    private static int min = -32;\n",
        "\n",
        "    public static void main(String[] args) throws InterruptedException\n",
        "    {\n",
        "\n",
        "        int[][] matrixA = generateRadomMatrix(rows, columns, min, max);\n",
        "        int[][] matrixB = generateRadomMatrix(rows, columns, min, max);\n",
        "        int[][] matrixC = addArraysSecuencial(matrixA,matrixB);\n",
        "        int[][] matrixD = addArraysWithThreads(matrixA,matrixB);\n",
        "\n",
        "        System.out.println(\"matrix A:\");\n",
        "        printMatrix(matrixA);\n",
        "\n",
        "        System.out.println(\"\\nmatrix B:\");\n",
        "        printMatrix(matrixB);\n",
        "\n",
        "        boolean matrixAreEquals = arraysAreEquals(matrixC,matrixD);\n",
        "        if(matrixAreEquals)\n",
        "        {\n",
        "            System.out.println(\"\\nmatrix CC:\");\n",
        "            printMatrix(matrixD);\n",
        "        }\n",
        "        else\n",
        "        {\n",
        "            System.out.println(\"\\nLas matrices no son iguales.\");\n",
        "        }\n",
        "\n",
        "    }\n",
        "\n",
        "\n",
        "    public static int[][] generateRadomMatrix(int rows, int columns, int min, int max)\n",
        "    {\n",
        "        int[][] matrix = new int[rows][columns];\n",
        "        Random rand = new Random();\n",
        "\n",
        "        for (int i = 0; i < rows; i++)\n",
        "        {\n",
        "            for (int j = 0; j < columns; j++)\n",
        "            {\n",
        "                matrix[i][j] = rand.nextInt((max - min + 1)) + min;\n",
        "            }\n",
        "        }\n",
        "\n",
        "        return matrix;\n",
        "    }\n",
        "\n",
        "    public static void printMatrix(int[][] matrix)\n",
        "    {\n",
        "        int padding = 5;\n",
        "        for (int i = 0; i < matrix.length; i++)\n",
        "        {\n",
        "            for (int j = 0; j < matrix[i].length; j++)\n",
        "            {\n",
        "                String number = String.format(\"%\" + padding + \"d\", matrix[i][j]);\n",
        "                System.out.print(number + \" \");\n",
        "            }\n",
        "            System.out.println();\n",
        "        }\n",
        "    }\n",
        "\n",
        "    public static int[][] addArraysSecuencial(int[][] matrixA, int[][] matrixB)\n",
        "    {\n",
        "        int rows = matrixA.length;\n",
        "        int columns = matrixA[0].length;\n",
        "        int[][] result = new int[rows][columns];\n",
        "\n",
        "        for (int i = 0; i < rows; i++)\n",
        "        {\n",
        "            for (int j = 0; j < columns; j++)\n",
        "            {\n",
        "                result[i][j] = matrixA[i][j] + matrixB[i][j];\n",
        "            }\n",
        "        }\n",
        "\n",
        "        return result;\n",
        "    }\n",
        "\n",
        "    public static int[][] addArraysWithThreads (int[][]matrixA, int[][] matrixB) throws InterruptedException\n",
        "    {\n",
        "        int[][] arrayAdd = new int[rows][columns];\n",
        "\n",
        "        Thread[] threads = new Thread[rows];\n",
        "\n",
        "        for (int i = 0; i < rows; i++)\n",
        "        {\n",
        "            final int row = i;\n",
        "            threads[i] = new Thread(() ->\n",
        "            {\n",
        "                for (int j = 0; j < columns; j++)\n",
        "                {\n",
        "                    arrayAdd[row][j] = matrixA[row][j] + matrixB[row][j];\n",
        "                }\n",
        "            }\n",
        "            );\n",
        "            threads[i].start();\n",
        "        }\n",
        "\n",
        "        for (Thread thread : threads)\n",
        "        {\n",
        "            try\n",
        "            {\n",
        "                thread.join();\n",
        "            }\n",
        "            catch (InterruptedException e)\n",
        "            {\n",
        "                e.printStackTrace();\n",
        "            }\n",
        "        }\n",
        "        return arrayAdd;\n",
        "    }\n",
        "\n",
        "     public static boolean arraysAreEquals(int[][] matrixA, int[][] matrixB)\n",
        "     {\n",
        "        if (matrixA.length != matrixB.length || matrixA[0].length != matrixB[0].length)\n",
        "        {\n",
        "            return false;\n",
        "        }\n",
        "        for (int i = 0; i < matrixA.length; i++)\n",
        "        {\n",
        "            for (int j = 0; j < matrixA[0].length; j++)\n",
        "            {\n",
        "                if (matrixA[i][j] != matrixB[i][j])\n",
        "                {\n",
        "                    return false;\n",
        "                }\n",
        "            }\n",
        "        }\n",
        "        return true;\n",
        "    }\n",
        "}"
      ]
    },
    {
      "cell_type": "code",
      "source": [
        "!java Process.java"
      ],
      "metadata": {
        "id": "4Y7JrU6i9RVY",
        "outputId": "5d0137fe-e2c5-4608-8531-b30d781f4e9b",
        "colab": {
          "base_uri": "https://localhost:8080/"
        }
      },
      "execution_count": null,
      "outputs": [
        {
          "output_type": "stream",
          "name": "stdout",
          "text": [
            "matrix A:\n",
            "  -20     7   -23    32   -11 \n",
            "  -22   -16    -3   -20   -12 \n",
            "   22     9   -12    -5   -24 \n",
            "  -25   -11     6    -5   -28 \n",
            "   16     2   -18   -26    -3 \n",
            "\n",
            "matrix B:\n",
            "    3   -32   -23     9     6 \n",
            "   16   -29     6   -18    20 \n",
            "   11    -3    -4    22    -4 \n",
            "    0     0     2    23    19 \n",
            "  -13   -18    -2   -14    18 \n",
            "\n",
            "matrix CC:\n",
            "  -17   -25   -46    41    -5 \n",
            "   -6   -45     3   -38     8 \n",
            "   33     6   -16    17   -28 \n",
            "  -25   -11     8    18    -9 \n",
            "    3   -16   -20   -40    15 \n"
          ]
        }
      ]
    },
    {
      "cell_type": "markdown",
      "source": [
        "## C++"
      ],
      "metadata": {
        "id": "-4oUo3-_Xed-"
      }
    },
    {
      "cell_type": "code",
      "source": [
        "%%writefile matrix.cpp\n",
        "#include <thread>\n",
        "#include <iostream>\n",
        "#include <cstdlib>\n",
        "#include <ctime>\n",
        "\n",
        "#define MAX 32\n",
        "#define MIN -32\n",
        "#define ROWS 5\n",
        "#define COLUMNS 5\n",
        "#define THREADS 5\n",
        "\n",
        "int GenerateRandomNumber(int min, int max);\n",
        "int** GenerateMatrix(int rows, int columns);\n",
        "void PrintMatrix(int **matrix, int rows, int columns, std::string name);\n",
        "void FillMatrix(int** matrix, int rows, int columns);\n",
        "void SumSecuencial(int** A, int** B, int** result, int rows, int columns);\n",
        "void SumConcurrent(int** A, int** B, int** result, int rows, int columns, int threads);\n",
        "void CompareMatrix(int **A, int **b, int rows, int columns);\n",
        "void SumRow(int* A, int* B, int* result, int columns);\n",
        "void FreeMatrix(int **matrix, int rows);\n",
        "\n",
        "int main(int argc, char *argv[])\n",
        "{\n",
        "    srand(time(NULL));\n",
        "\n",
        "    int **A = GenerateMatrix(ROWS, COLUMNS);\n",
        "    int **B = GenerateMatrix(ROWS, COLUMNS);\n",
        "    int **CS = GenerateMatrix(ROWS, COLUMNS);\n",
        "    int **CC = GenerateMatrix(ROWS, COLUMNS);\n",
        "\n",
        "    FillMatrix(A, ROWS, COLUMNS);\n",
        "    FillMatrix(B, ROWS, COLUMNS);\n",
        "    SumSecuencial(A, B, CS, ROWS, COLUMNS);\n",
        "    SumConcurrent(A, B, CC, ROWS, COLUMNS, THREADS);\n",
        "\n",
        "    PrintMatrix(A, ROWS, COLUMNS, \"A\");\n",
        "    PrintMatrix(B, ROWS, COLUMNS, \"B\");\n",
        "    PrintMatrix(CS, ROWS, COLUMNS, \"CS\");\n",
        "    PrintMatrix(CC, ROWS, COLUMNS, \"CC\");\n",
        "\n",
        "    CompareMatrix(CC, CS, ROWS, COLUMNS);\n",
        "\n",
        "    FreeMatrix(A, ROWS);\n",
        "    FreeMatrix(B, ROWS);\n",
        "    FreeMatrix(CC, ROWS);\n",
        "    FreeMatrix(CS, ROWS);\n",
        "}\n",
        "\n",
        "\n",
        "int** GenerateMatrix(int rows, int columns)\n",
        "{\n",
        "   int **result = (int **) calloc(rows, sizeof (int *) * rows);\n",
        "   for(int i = 0; i < rows; i++)\n",
        "   {\n",
        "     result[i] = (int *) calloc(columns, sizeof (int) * columns);\n",
        "   }\n",
        "   return result;\n",
        "}\n",
        "\n",
        "\n",
        "void FillMatrix(int** matrix, int rows, int columns)\n",
        "{\n",
        "  for(int i = 0; i < rows; i++)\n",
        "     for(int j= 0; j < columns; j++)\n",
        "       matrix[i][j] = GenerateRandomNumber(MIN, MAX);\n",
        "}\n",
        "\n",
        "\n",
        "int GenerateRandomNumber(int min, int max)\n",
        "{\n",
        "   int mod = (((max) + 1)-(min));\n",
        "   int r = rand() % mod + min;\n",
        "   return r;\n",
        "}\n",
        "\n",
        "\n",
        "void PrintMatrix(int **matrix, int rows, int columns, std::string name)\n",
        "{\n",
        "     std::cout<<\"\\n\\nMatrix \"<<name<<\":\\n\\n\"<<std::endl;\n",
        "     for(int i = 0; i < rows; i++)\n",
        "     {\n",
        "       for(int j= 0; j < columns; j++)\n",
        "         printf(\" %d \", matrix[i][j]);\n",
        "       printf(\"\\n\");\n",
        "     }\n",
        "}\n",
        "\n",
        "\n",
        "void SumSecuencial(int** A, int** B, int** result, int rows, int columns)\n",
        "{\n",
        "  for(int i = 0; i < rows; i++)\n",
        "    for(int j = 0; j < columns; j++)\n",
        "      result[i][j] = A[i][j] + B[i][j];\n",
        "}\n",
        "\n",
        "\n",
        "void SumConcurrent(int** A, int** B, int** result, int rows, int columns, int threads)\n",
        "{\n",
        "  std::thread v_th[threads];\n",
        "  for(int i = 0; i < threads; i++)\n",
        "  {\n",
        "    v_th[i] = std::thread(SumRow, A[i], B[i], result[i], columns);\n",
        "  }\n",
        "  for(int i = 0; i < threads; i++)\n",
        "  {\n",
        "    v_th[i].join();\n",
        "  }\n",
        "}\n",
        "\n",
        "\n",
        "void SumRow(int* A, int* B, int* result, int columns)\n",
        "{\n",
        "  for(int i = 0; i < columns; i++)\n",
        "    result[i] = A[i] + B[i];\n",
        "}\n",
        "\n",
        "\n",
        "void FreeMatrix(int **matrix, int rows)\n",
        "{\n",
        "  for(int i = 0; i < rows; i++)\n",
        "  {\n",
        "    free(matrix[i]);\n",
        "  }\n",
        "  free(matrix);\n",
        "}\n",
        "\n",
        "\n",
        "void CompareMatrix(int **A, int **B, int rows, int columns)\n",
        "{\n",
        "  int iguales = 1;\n",
        "  for(int i = 0; i < rows; i++)\n",
        "    for(int j = 0; j < columns; j++)\n",
        "      if(A[i][j] != B[i][j])\n",
        "      {\n",
        "         iguales = 0;\n",
        "         i = rows;\n",
        "         j = columns;\n",
        "      }\n",
        "  if(iguales)\n",
        "  {\n",
        "    printf(\"\\n\\nLas matrices CC y CS son IGUALES\");\n",
        "  }\n",
        "  else\n",
        "  {\n",
        "    printf(\"\\n\\nLas matrices CC y CS son DISTINTAS\");\n",
        "  }\n",
        "}"
      ],
      "metadata": {
        "colab": {
          "base_uri": "https://localhost:8080/"
        },
        "id": "Zdli3DXaXwbw",
        "outputId": "442f1220-5fb4-42e4-d9f5-a86e5e27aec3"
      },
      "execution_count": null,
      "outputs": [
        {
          "output_type": "stream",
          "name": "stdout",
          "text": [
            "Writing matrix.cpp\n"
          ]
        }
      ]
    },
    {
      "cell_type": "code",
      "source": [
        "!g++ -o matrix.bin matrix.cpp"
      ],
      "metadata": {
        "id": "JQdo9UbDX0UZ"
      },
      "execution_count": null,
      "outputs": []
    },
    {
      "cell_type": "code",
      "source": [
        "!./matrix.bin"
      ],
      "metadata": {
        "colab": {
          "base_uri": "https://localhost:8080/"
        },
        "id": "XHsZ-ZqFX2qN",
        "outputId": "f74a34fb-0556-469f-985b-fcd140b531fb"
      },
      "execution_count": null,
      "outputs": [
        {
          "output_type": "stream",
          "name": "stdout",
          "text": [
            "\n",
            "\n",
            "Matrix A:\n",
            "\n",
            "\n",
            " -24  -18  -22  11  14 \n",
            " 12  -29  10  29  21 \n",
            " 1  -16  -14  13  -19 \n",
            " 5  22  32  18  -6 \n",
            " -1  17  -5  5  16 \n",
            "\n",
            "\n",
            "Matrix B:\n",
            "\n",
            "\n",
            " -31  16  -13  9  -2 \n",
            " 13  19  15  25  -2 \n",
            " -4  4  3  -27  3 \n",
            " -8  8  21  10  -12 \n",
            " -29  -16  -21  -30  -31 \n",
            "\n",
            "\n",
            "Matrix CS:\n",
            "\n",
            "\n",
            " -55  -2  -35  20  12 \n",
            " 25  -10  25  54  19 \n",
            " -3  -12  -11  -14  -16 \n",
            " -3  30  53  28  -18 \n",
            " -30  1  -26  -25  -15 \n",
            "\n",
            "\n",
            "Matrix CC:\n",
            "\n",
            "\n",
            " -55  -2  -35  20  12 \n",
            " 25  -10  25  54  19 \n",
            " -3  -12  -11  -14  -16 \n",
            " -3  30  53  28  -18 \n",
            " -30  1  -26  -25  -15 \n",
            "\n",
            "\n",
            "Las matrices CC y CS son IGUALES"
          ]
        }
      ]
    },
    {
      "cell_type": "markdown",
      "source": [
        "## Go"
      ],
      "metadata": {
        "id": "HuLmAJI5Azfc"
      }
    },
    {
      "cell_type": "markdown",
      "source": [
        "### Instalación de Go"
      ],
      "metadata": {
        "id": "Dybo4stQGYtE"
      }
    },
    {
      "cell_type": "code",
      "source": [
        "!add-apt-repository ppa:longsleep/golang-backports -y\n",
        "!apt update\n",
        "!apt install golang-go\n",
        "%env GOPATH=/root/go\n",
        "!go get -u github.com/gopherdata/gophernotes\n",
        "!cp ~/go/bin/gophernotes /usr/bin/\n",
        "!mkdir /usr/local/share/jupyter/kernels/gophernotes\n",
        "!cp ~/go/src/github.com/gopherdata/gophernotes/kernel/* \\\n",
        "       /usr/local/share/jupyter/kernels/gophernotes"
      ],
      "metadata": {
        "colab": {
          "base_uri": "https://localhost:8080/"
        },
        "id": "tn_L7ZevA3PK",
        "outputId": "ddad0c97-5939-4fb9-865e-1fc4a8ab173e"
      },
      "execution_count": null,
      "outputs": [
        {
          "output_type": "stream",
          "name": "stdout",
          "text": [
            "Repository: 'deb https://ppa.launchpadcontent.net/longsleep/golang-backports/ubuntu/ jammy main'\n",
            "Description:\n",
            "Golang 1.8, 1.9, 1.10, 1.11, 1.12, 1.13, 1.14, 1.15, 1.16, 1.17, 1.18, 1.19, 1.20 and 1.21 PPA for Ubuntu\n",
            "More info: https://launchpad.net/~longsleep/+archive/ubuntu/golang-backports\n",
            "Adding repository.\n",
            "Adding deb entry to /etc/apt/sources.list.d/longsleep-ubuntu-golang-backports-jammy.list\n",
            "Adding disabled deb-src entry to /etc/apt/sources.list.d/longsleep-ubuntu-golang-backports-jammy.list\n",
            "Adding key to /etc/apt/trusted.gpg.d/longsleep-ubuntu-golang-backports.gpg with fingerprint 52B59B1571A79DBC054901C0F6BC817356A3D45E\n",
            "Hit:1 http://archive.ubuntu.com/ubuntu jammy InRelease\n",
            "Get:2 http://archive.ubuntu.com/ubuntu jammy-updates InRelease [119 kB]\n",
            "Get:3 http://archive.ubuntu.com/ubuntu jammy-backports InRelease [109 kB]\n",
            "Get:4 https://cloud.r-project.org/bin/linux/ubuntu jammy-cran40/ InRelease [3,626 B]\n",
            "Hit:5 https://ppa.launchpadcontent.net/c2d4u.team/c2d4u4.0+/ubuntu jammy InRelease\n",
            "Hit:6 https://developer.download.nvidia.com/compute/cuda/repos/ubuntu2204/x86_64  InRelease\n",
            "Hit:7 https://ppa.launchpadcontent.net/deadsnakes/ppa/ubuntu jammy InRelease\n",
            "Get:8 http://security.ubuntu.com/ubuntu jammy-security InRelease [110 kB]\n",
            "Hit:9 https://ppa.launchpadcontent.net/graphics-drivers/ppa/ubuntu jammy InRelease\n",
            "Get:10 https://ppa.launchpadcontent.net/longsleep/golang-backports/ubuntu jammy InRelease [17.5 kB]\n",
            "Hit:11 https://ppa.launchpadcontent.net/ubuntugis/ppa/ubuntu jammy InRelease\n",
            "Get:12 http://archive.ubuntu.com/ubuntu jammy-updates/universe amd64 Packages [1,257 kB]\n",
            "Get:13 http://archive.ubuntu.com/ubuntu jammy-updates/main amd64 Packages [1,235 kB]\n",
            "Get:14 https://ppa.launchpadcontent.net/longsleep/golang-backports/ubuntu jammy/main amd64 Packages [5,642 B]\n",
            "Get:15 http://security.ubuntu.com/ubuntu jammy-security/universe amd64 Packages [993 kB]\n",
            "Get:16 http://security.ubuntu.com/ubuntu jammy-security/main amd64 Packages [966 kB]\n",
            "Fetched 4,817 kB in 2s (2,403 kB/s)\n",
            "Reading package lists... Done\n",
            "Hit:1 https://cloud.r-project.org/bin/linux/ubuntu jammy-cran40/ InRelease\n",
            "Hit:2 https://ppa.launchpadcontent.net/c2d4u.team/c2d4u4.0+/ubuntu jammy InRelease\n",
            "Hit:3 https://developer.download.nvidia.com/compute/cuda/repos/ubuntu2204/x86_64  InRelease\n",
            "Hit:4 https://ppa.launchpadcontent.net/deadsnakes/ppa/ubuntu jammy InRelease\n",
            "Hit:5 http://security.ubuntu.com/ubuntu jammy-security InRelease\n",
            "Hit:6 http://archive.ubuntu.com/ubuntu jammy InRelease\n",
            "Hit:7 https://ppa.launchpadcontent.net/graphics-drivers/ppa/ubuntu jammy InRelease\n",
            "Hit:8 http://archive.ubuntu.com/ubuntu jammy-updates InRelease\n",
            "Hit:9 https://ppa.launchpadcontent.net/longsleep/golang-backports/ubuntu jammy InRelease\n",
            "Hit:10 https://ppa.launchpadcontent.net/ubuntugis/ppa/ubuntu jammy InRelease\n",
            "Hit:11 http://archive.ubuntu.com/ubuntu jammy-backports InRelease\n",
            "Reading package lists... Done\n",
            "Building dependency tree... Done\n",
            "Reading state information... Done\n",
            "27 packages can be upgraded. Run 'apt list --upgradable' to see them.\n",
            "Reading package lists... Done\n",
            "Building dependency tree... Done\n",
            "Reading state information... Done\n",
            "The following additional packages will be installed:\n",
            "  golang-1.21-go golang-1.21-src golang-src\n",
            "Suggested packages:\n",
            "  bzr | brz mercurial subversion\n",
            "The following NEW packages will be installed:\n",
            "  golang-1.21-go golang-1.21-src golang-go golang-src\n",
            "0 upgraded, 4 newly installed, 0 to remove and 27 not upgraded.\n",
            "Need to get 42.2 MB of archives.\n",
            "After this operation, 219 MB of additional disk space will be used.\n",
            "Get:1 https://ppa.launchpadcontent.net/longsleep/golang-backports/ubuntu jammy/main amd64 golang-1.21-src all 1.21.1-1longsleep1+focal [18.5 MB]\n",
            "Get:2 https://ppa.launchpadcontent.net/longsleep/golang-backports/ubuntu jammy/main amd64 golang-1.21-go amd64 1.21.1-1longsleep1+focal [23.6 MB]\n",
            "Get:3 https://ppa.launchpadcontent.net/longsleep/golang-backports/ubuntu jammy/main amd64 golang-src amd64 2:1.21~1longsleep1 [5,148 B]\n",
            "Get:4 https://ppa.launchpadcontent.net/longsleep/golang-backports/ubuntu jammy/main amd64 golang-go amd64 2:1.21~1longsleep1 [24.2 kB]\n",
            "Fetched 42.2 MB in 1s (38.8 MB/s)\n",
            "Selecting previously unselected package golang-1.21-src.\n",
            "(Reading database ... 120901 files and directories currently installed.)\n",
            "Preparing to unpack .../golang-1.21-src_1.21.1-1longsleep1+focal_all.deb ...\n",
            "Unpacking golang-1.21-src (1.21.1-1longsleep1+focal) ...\n",
            "Selecting previously unselected package golang-1.21-go.\n",
            "Preparing to unpack .../golang-1.21-go_1.21.1-1longsleep1+focal_amd64.deb ...\n",
            "Unpacking golang-1.21-go (1.21.1-1longsleep1+focal) ...\n",
            "Selecting previously unselected package golang-src:amd64.\n",
            "Preparing to unpack .../golang-src_2%3a1.21~1longsleep1_amd64.deb ...\n",
            "Unpacking golang-src:amd64 (2:1.21~1longsleep1) ...\n",
            "Selecting previously unselected package golang-go.\n",
            "Preparing to unpack .../golang-go_2%3a1.21~1longsleep1_amd64.deb ...\n",
            "Unpacking golang-go (2:1.21~1longsleep1) ...\n",
            "Setting up golang-1.21-src (1.21.1-1longsleep1+focal) ...\n",
            "Setting up golang-src:amd64 (2:1.21~1longsleep1) ...\n",
            "Setting up golang-1.21-go (1.21.1-1longsleep1+focal) ...\n",
            "Setting up golang-go (2:1.21~1longsleep1) ...\n",
            "Processing triggers for man-db (2.10.2-1) ...\n",
            "env: GOPATH=/root/go\n",
            "go: go.mod file not found in current directory or any parent directory.\n",
            "\t'go get' is no longer supported outside a module.\n",
            "\tTo build and install a command, use 'go install' with a version,\n",
            "\tlike 'go install example.com/cmd@latest'\n",
            "\tFor more information, see https://golang.org/doc/go-get-install-deprecation\n",
            "\tor run 'go help get' or 'go help install'.\n",
            "cp: cannot stat '/root/go/bin/gophernotes': No such file or directory\n",
            "cp: cannot stat '/root/go/src/github.com/gopherdata/gophernotes/kernel/*': No such file or directory\n"
          ]
        }
      ]
    },
    {
      "cell_type": "code",
      "source": [
        "!%cd /content/go\n",
        "!go mod init go"
      ],
      "metadata": {
        "colab": {
          "base_uri": "https://localhost:8080/"
        },
        "id": "bEs-sCIRB6Ay",
        "outputId": "01aa40a0-fdcf-4e92-996f-9a85b7ea3c07"
      },
      "execution_count": null,
      "outputs": [
        {
          "output_type": "stream",
          "name": "stdout",
          "text": [
            "/bin/bash: line 1: fg: no job control\n",
            "go: creating new go.mod: module go\n",
            "panic: go: internal error: missing go root module\n",
            "\n",
            "goroutine 1 [running]:\n",
            "cmd/go/internal/modload.mustHaveGoRoot(...)\n",
            "\tcmd/go/internal/modload/buildlist.go:104\n",
            "cmd/go/internal/modload.newRequirements(0x60?, {0xc00006c2c0?, 0x9abc60?, 0xc0000101e0?}, 0xc0001257e8?)\n",
            "\tcmd/go/internal/modload/buildlist.go:118 +0x6ab\n",
            "cmd/go/internal/modload.updatePrunedRoots({0xb854b0, 0xf21f60}, 0x81e140?, 0xc0000780f0, {0x0, 0x0, 0xc000012034?}, {0x0, 0x0, 0x0}, ...)\n",
            "\tcmd/go/internal/modload/buildlist.go:1223 +0xc59\n",
            "cmd/go/internal/modload.updateRoots({0xb854b0?, 0xf21f60?}, 0xb7d862?, 0x6?, {0x0?, 0x1?, 0xc000012a40?}, {0x0, 0x0, 0x0}, ...)\n",
            "\tcmd/go/internal/modload/buildlist.go:783 +0x9d\n",
            "cmd/go/internal/modload.CreateModFile({0xb854b0, 0xf21f60}, {0x7ffdf04e1d5d, 0x2})\n",
            "\tcmd/go/internal/modload/init.go:1041 +0x8ef\n",
            "cmd/go/internal/modcmd.runInit({0xb854b0?, 0xf21f60?}, 0xc00002e648?, {0xc0000220b0?, 0x9b49a0?, 0xa83b99?})\n",
            "\tcmd/go/internal/modcmd/init.go:51 +0x8c\n",
            "main.invoke(0xee5c60, {0xc0000220a0, 0x2, 0x2})\n",
            "\tcmd/go/main.go:268 +0x5f1\n",
            "main.main()\n",
            "\tcmd/go/main.go:186 +0x7a5\n"
          ]
        }
      ]
    },
    {
      "cell_type": "markdown",
      "source": [
        "### Código"
      ],
      "metadata": {
        "id": "oatUbfcyFjTD"
      }
    },
    {
      "cell_type": "code",
      "source": [
        "%%writefile matrix.go\n",
        "package main\n",
        "\n",
        "import (\n",
        "\t\"fmt\"\n",
        "\t\"math/rand\"\n",
        "\t\"sync\"\n",
        ")\n",
        "\n",
        "const SIZE int = 5\n",
        "\n",
        "var a [SIZE][SIZE]int\n",
        "var b [SIZE][SIZE]int\n",
        "var sc [SIZE][SIZE]int\n",
        "var ss [SIZE][SIZE]int\n",
        "\n",
        "func main() {\n",
        "\tfor row := 0; row < SIZE; row++ {\n",
        "\t\tfor column := 0; column < SIZE; column++ {\n",
        "\t\t\ta[row][column] = rand.Intn(64) - 32\n",
        "\t\t\tb[row][column] = rand.Intn(64) - 32\n",
        "\t\t}\n",
        "\t}\n",
        "\tprintMatrix(a, \"A\")\n",
        "\tprintMatrix(b, \"B\")\n",
        "\n",
        "\tconcurrentSum()\n",
        "\tsequentialSum()\n",
        "\n",
        "\tprintMatrix(sc, \"SC\")\n",
        "\tprintMatrix(ss, \"SS\")\n",
        "}\n",
        "\n",
        "func sequentialSum() {\n",
        "\tfor row := 0; row < SIZE; row++ {\n",
        "\t\tfor column := 0; column < SIZE; column++ {\n",
        "\t\t\tss[row][column] = a[row][column] + b[row][column]\n",
        "\t\t}\n",
        "\t}\n",
        "}\n",
        "\n",
        "func concurrentSum() {\n",
        "\tvar wg sync.WaitGroup\n",
        "\tfor row := 0; row < SIZE; row++ {\n",
        "\t\twg.Add(1)\n",
        "\t\tgo rowSum(row, &wg)\n",
        "\t}\n",
        "\twg.Wait()\n",
        "\n",
        "}\n",
        "\n",
        "func rowSum(row int, wg *sync.WaitGroup) {\n",
        "\tdefer wg.Done()\n",
        "\tfor column := 0; column < SIZE; column++ {\n",
        "\t\tsc[row][column] = a[row][column] + b[row][column]\n",
        "\t}\n",
        "}\n",
        "\n",
        "func printMatrix(matrix [SIZE][SIZE]int, name string) {\n",
        "\tfmt.Printf(\"Matrix %s:\\n\", name)\n",
        "\tfor row := 0; row < SIZE; row++ {\n",
        "\t\tfor column := 0; column < SIZE; column++ {\n",
        "\t\t\tfmt.Printf(\"%3d\\t\", matrix[row][column])\n",
        "\t\t}\n",
        "\t\tfmt.Println(\"\")\n",
        "\t}\n",
        "\tfmt.Println(\"\")\n",
        "}\n",
        "\n",
        "\n"
      ],
      "metadata": {
        "colab": {
          "base_uri": "https://localhost:8080/"
        },
        "id": "3rLwoPPVFsjh",
        "outputId": "111372e9-3479-4612-864c-62ff6a26a818"
      },
      "execution_count": null,
      "outputs": [
        {
          "output_type": "stream",
          "name": "stdout",
          "text": [
            "Overwriting matrix.go\n"
          ]
        }
      ]
    },
    {
      "cell_type": "markdown",
      "source": [
        "### Ejecución"
      ],
      "metadata": {
        "id": "5fA7HR1CGe2b"
      }
    },
    {
      "cell_type": "code",
      "source": [
        "!go run matrix.go"
      ],
      "metadata": {
        "colab": {
          "base_uri": "https://localhost:8080/"
        },
        "id": "cf5sLWfmF3CR",
        "outputId": "b487e127-458a-4c5a-f52e-93bc885fb3a3"
      },
      "execution_count": null,
      "outputs": [
        {
          "output_type": "stream",
          "name": "stdout",
          "text": [
            "Matrix A:\n",
            "  9\t -2\t -4\t -7\t -2\t\n",
            "  4\t 24\t-29\t 18\t-19\t\n",
            "-30\t-14\t-30\t  8\t -6\t\n",
            " 30\t-15\t-32\t 12\t 14\t\n",
            " 14\t  2\t 22\t 23\t-23\t\n",
            "\n",
            "Matrix B:\n",
            " 10\t 12\t -5\t 19\t-23\t\n",
            " 22\t 22\t-26\t 11\t -6\t\n",
            " 27\t  8\t 27\t -9\t  2\t\n",
            "-23\t  9\t-13\t -8\t 17\t\n",
            "  1\t-29\t-30\t 30\t 14\t\n",
            "\n",
            "Matrix SC:\n",
            " 19\t 10\t -9\t 12\t-25\t\n",
            " 26\t 46\t-55\t 29\t-25\t\n",
            " -3\t -6\t -3\t -1\t -4\t\n",
            "  7\t -6\t-45\t  4\t 31\t\n",
            " 15\t-27\t -8\t 53\t -9\t\n",
            "\n",
            "Matrix SS:\n",
            " 19\t 10\t -9\t 12\t-25\t\n",
            " 26\t 46\t-55\t 29\t-25\t\n",
            " -3\t -6\t -3\t -1\t -4\t\n",
            "  7\t -6\t-45\t  4\t 31\t\n",
            " 15\t-27\t -8\t 53\t -9\t\n",
            "\n"
          ]
        }
      ]
    }
  ]
}